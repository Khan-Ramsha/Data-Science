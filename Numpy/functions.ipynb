{
 "cells": [
  {
   "cell_type": "code",
   "execution_count": 7,
   "id": "4ca4c332-d445-4b4a-88d0-af0e78ce509c",
   "metadata": {},
   "outputs": [
    {
     "name": "stdout",
     "output_type": "stream",
     "text": [
      "hello jupyter\n"
     ]
    }
   ],
   "source": [
    "print(\"hello jupyter\")"
   ]
  },
  {
   "cell_type": "code",
   "execution_count": 4,
   "id": "e9267476-d92d-46c8-b45c-e64183239e3b",
   "metadata": {},
   "outputs": [
    {
     "name": "stdout",
     "output_type": "stream",
     "text": [
      "5\n",
      "[ 1  3  5  7  9 11 13 15 17 19]\n",
      "[ 1  2  3  4  5  6  7  8  9 10 11 12 13 14 15 16 17 18 19 20]\n"
     ]
    }
   ],
   "source": [
    "import numpy as np\n",
    "Array1 = np.arange(1,20,2) #print the numbers with step 2\n",
    "Array2 = np.arange(1,21)\n",
    "print(Array1[2])\n",
    "print(Array1)\n",
    "print(Array2)"
   ]
  },
  {
   "cell_type": "code",
   "execution_count": 49,
   "id": "b3edcbe2-9c48-4dfc-9fa3-0a86c8ecc43f",
   "metadata": {},
   "outputs": [
    {
     "name": "stdout",
     "output_type": "stream",
     "text": [
      "[[0.82765931 0.08434421 0.57111237 0.47757929]\n",
      " [0.79315531 0.18140441 0.85141976 0.41919895]]\n",
      "[[17 16 15]\n",
      " [19 14 14]] 19 3\n"
     ]
    }
   ],
   "source": [
    "x = np.random.rand(2,4) #returns random value from 0 to 1 (2 rows and 2 cols)\n",
    "print(x)\n",
    "a1=np.random.randint(10,20,(2,3))\n",
    "print(a1,a1.max(),a1.argmax())"
   ]
  },
  {
   "cell_type": "code",
   "execution_count": 47,
   "id": "0f48ebd7-0331-4f5c-adca-227c932d6d23",
   "metadata": {
    "scrolled": true
   },
   "outputs": [
    {
     "name": "stdout",
     "output_type": "stream",
     "text": [
      "[[[[[[12  3  3  4]]]]]] \n",
      " Arary dimensions- 6\n",
      "(3, 2)\n",
      "(1, 3, 3)\n"
     ]
    }
   ],
   "source": [
    "import numpy as np\n",
    "arr1 = np.array([[1,2],[3,4],[5,6]])\n",
    "arr2 = np.array([[[1,2,3],[4,5,6],[2,1,3]]])\n",
    "arr3 = np.array([12,3,3,4],ndmin=6)\n",
    "print(arr3,\"\\n\",\"Arary dimensions-\",arr3.ndim )\n",
    "print(arr1.shape)\n",
    "print(arr2.shape)"
   ]
  },
  {
   "cell_type": "code",
   "execution_count": 21,
   "id": "48dcb0b4-93de-4d46-ae7f-53207e8a2466",
   "metadata": {},
   "outputs": [
    {
     "name": "stdout",
     "output_type": "stream",
     "text": [
      "[[0.]\n",
      " [0.]]\n",
      "[[4 4 4]]\n",
      "[[1. 0. 0.]\n",
      " [0. 1. 0.]\n",
      " [0. 0. 1.]]\n",
      "[[1. 0.]\n",
      " [0. 1.]]\n",
      "Data type of arr2: int32\n"
     ]
    }
   ],
   "source": [
    "import numpy as np\n",
    "arr1=np.zeros([2,1])\n",
    "print(arr1)\n",
    "arr2 = np.full([1,3],4)\n",
    "print(arr2)\n",
    "x=np.eye(2,2)\n",
    "y=np.eye(3)\n",
    "print(y)\n",
    "print(x)\n",
    "print(\"Data type of arr2:\",arr2.dtype)"
   ]
  },
  {
   "cell_type": "code",
   "execution_count": 51,
   "id": "6f72a61a-0815-4132-98be-0ddffafad824",
   "metadata": {},
   "outputs": [
    {
     "name": "stdout",
     "output_type": "stream",
     "text": [
      "[1 2 3 4 5]\n",
      "After reassigning: [0 0 3 4 5]\n"
     ]
    }
   ],
   "source": [
    "import numpy as np\n",
    "Array1=np.array([1,2,3,4,5])\n",
    "print(Array1)\n",
    "Array1[0:2]=0 # reassigned values\n",
    "print(\"After reassigning:\",Array1)"
   ]
  },
  {
   "cell_type": "code",
   "execution_count": 64,
   "id": "3143c1c8-57b5-4ea6-ac04-193bbaaa8ce0",
   "metadata": {},
   "outputs": [
    {
     "name": "stdout",
     "output_type": "stream",
     "text": [
      "[2 3]\n",
      "[6 7]\n",
      "[2]\n",
      "2\n"
     ]
    }
   ],
   "source": [
    "#slicing in 2D Array\n",
    "import numpy as np\n",
    "arr1 = np.array([[1,2,3,4],[5,6,7,8]])\n",
    "print(arr1[0,1:3])\n",
    "print(arr1[1,1:3])\n",
    "print(arr1[-2,-3:-2])\n",
    "print(arr1[0,1])"
   ]
  },
  {
   "cell_type": "code",
   "execution_count": 49,
   "id": "b956b4c0-fd46-48e3-b613-f7266cb82214",
   "metadata": {},
   "outputs": [
    {
     "name": "stdout",
     "output_type": "stream",
     "text": [
      "[[[ 1  2  3]\n",
      "  [ 4  5  6]]\n",
      "\n",
      " [[10 11 12]\n",
      "  [ 3  4  6]]]\n",
      "[[[ 1  2  3]\n",
      "  [ 4  5  6]]\n",
      "\n",
      " [[10 11 12]\n",
      "  [ 6  4  3]]]\n",
      "[[[ 3  4  6]\n",
      "  [12 11 10]]\n",
      "\n",
      " [[ 6  5  4]\n",
      "  [ 3  2  1]]]\n",
      "12\n",
      "[[[False False  True]\n",
      "  [ True  True  True]]\n",
      "\n",
      " [[ True  True  True]\n",
      "  [ True  True  True]]]\n"
     ]
    }
   ],
   "source": [
    "#slicing in 3D array\n",
    "import numpy as np\n",
    "arr1=np.array([[[1,2,3],[4,5,6]],[[10,11,12],[6,4,3]]])\n",
    "print(np.sort(arr1))\n",
    "reverse=np.flip(arr1)\n",
    "print(arr1)\n",
    "print(reverse)\n",
    "print(arr1[1,0,2])\n",
    "print(arr1>2)"
   ]
  },
  {
   "cell_type": "code",
   "execution_count": 1,
   "id": "5e320435-a5e8-4228-b5f8-6b8b1f5d756b",
   "metadata": {},
   "outputs": [
    {
     "name": "stdout",
     "output_type": "stream",
     "text": [
      "[0.85070214 0.81284176 0.09285762 0.44612914]\n"
     ]
    }
   ],
   "source": [
    "#using random.rand()\n",
    "import numpy as np\n",
    "arr = np.random.rand(4)\n",
    "print(arr)\n"
   ]
  },
  {
   "cell_type": "code",
   "execution_count": 3,
   "id": "8d06eee2-7a7c-423c-a15c-6f803fdbee1d",
   "metadata": {
    "scrolled": true
   },
   "outputs": [
    {
     "name": "stdout",
     "output_type": "stream",
     "text": [
      "[[ True False]\n",
      " [False  True]]\n"
     ]
    }
   ],
   "source": [
    "#using lambda function\n",
    "import numpy as np\n",
    "arr = np.fromfunction(lambda i,j: i==j,(2,2))\n",
    "print(arr)"
   ]
  },
  {
   "cell_type": "code",
   "execution_count": 17,
   "id": "f46ccf1f-7ede-4698-90d3-5453e418333a",
   "metadata": {},
   "outputs": [
    {
     "name": "stdout",
     "output_type": "stream",
     "text": [
      "[0 2 4 6 8]\n",
      "[232.  33.]\n",
      "[[1 2 3 3]]\n"
     ]
    }
   ],
   "source": [
    "#printing iterable variable\n",
    "import numpy as np\n",
    "var= (i+i for i in range(5))\n",
    "itvar=np.fromiter(var,int)\n",
    "print(itvar)\n",
    "string=np.fromstring(\"232 33\",sep=' ')\n",
    "print(string)\n",
    "arr3=1,2,3,3\n",
    "arr4=np.matrix(arr3)\n",
    "print(arr4)"
   ]
  },
  {
   "cell_type": "code",
   "execution_count": 36,
   "id": "8229179b-be1d-4dae-aa60-fdaab14d86cb",
   "metadata": {},
   "outputs": [
    {
     "name": "stdout",
     "output_type": "stream",
     "text": [
      "[[ 1  2  3  4 23  1  1]]\n",
      "   0  1  2  3   4  5  6\n",
      "0  1  2  3  4  23  1  1\n"
     ]
    }
   ],
   "source": [
    "import pandas as pd\n",
    "import numpy as np\n",
    "arr1 = np.array([[1,2,3,4,23,1,1]])\n",
    "\n",
    "print(array)\n",
    "arr1 = pd.DataFrame(arr1)\n",
    "print(arr1)"
   ]
  },
  {
   "cell_type": "code",
   "execution_count": 44,
   "id": "1c02606c-d666-4bb1-8dd2-eac979516131",
   "metadata": {},
   "outputs": [
    {
     "data": {
      "text/plain": [
       "array(['ramsha', 'khan'], dtype='<U6')"
      ]
     },
     "execution_count": 44,
     "metadata": {},
     "output_type": "execute_result"
    }
   ],
   "source": [
    "import numpy as np\n",
    "string=np.array([\"Ramsha\",\"khan\"])\n",
    "np.char.upper(string)\n",
    "np.char.title(string)\n",
    "np.char.lower(string)"
   ]
  },
  {
   "cell_type": "code",
   "execution_count": 63,
   "id": "469163f9-6580-4acf-9e0a-62ca556ef3ea",
   "metadata": {},
   "outputs": [
    {
     "name": "stdout",
     "output_type": "stream",
     "text": [
      "0\n"
     ]
    },
    {
     "data": {
      "text/plain": [
       "array([  16777216, 1090519040,  452984832,  218103808,  385875968,\n",
       "        134217728])"
      ]
     },
     "execution_count": 63,
     "metadata": {},
     "output_type": "execute_result"
    }
   ],
   "source": [
    "import numpy as np\n",
    "arr1 = np.array([1,65,27,13,23,8])\n",
    "for i in range(5):\n",
    "    if arr1[i]<6:\n",
    "        print(i)\n",
    "#or\n",
    "np.where(arr1<6)\n",
    "#to extract data\n",
    "np.extract(arr1>6,arr1)\n",
    "#byte swap\n",
    "arr1.byteswap()"
   ]
  },
  {
   "cell_type": "code",
   "execution_count": null,
   "id": "98b2f9ff-7b08-449b-b6e8-09e778c1492c",
   "metadata": {},
   "outputs": [],
   "source": []
  },
  {
   "cell_type": "code",
   "execution_count": null,
   "id": "f94794e1-600e-47f5-95ef-07d0775416e7",
   "metadata": {},
   "outputs": [],
   "source": []
  }
 ],
 "metadata": {
  "kernelspec": {
   "display_name": "Python 3 (ipykernel)",
   "language": "python",
   "name": "python3"
  },
  "language_info": {
   "codemirror_mode": {
    "name": "ipython",
    "version": 3
   },
   "file_extension": ".py",
   "mimetype": "text/x-python",
   "name": "python",
   "nbconvert_exporter": "python",
   "pygments_lexer": "ipython3",
   "version": "3.9.7"
  }
 },
 "nbformat": 4,
 "nbformat_minor": 5
}
