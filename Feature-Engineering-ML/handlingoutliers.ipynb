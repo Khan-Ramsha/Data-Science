{
 "cells": [
  {
   "cell_type": "markdown",
   "id": "3b3f211d-1783-428f-9c33-a75e5eb55b24",
   "metadata": {},
   "source": [
    "## 5 number summary\n",
    " 1) Minimum value\n",
    " 2) Q1-25 percentile\n",
    " 3) Median\n",
    " 4) Q3-75 percentile\n",
    " 5) Maximum"
   ]
  },
  {
   "cell_type": "code",
   "execution_count": 1,
   "id": "42e812e4-d238-4f21-9eb3-6bb2ecc7c63e",
   "metadata": {},
   "outputs": [],
   "source": [
    "import numpy as np\n",
    "marks=[22,44,44,55,11,33,67,76,88,80,22,1000]"
   ]
  },
  {
   "cell_type": "code",
   "execution_count": 12,
   "id": "00fedead-c9bf-4bd3-98ac-e93232aec49b",
   "metadata": {},
   "outputs": [
    {
     "name": "stdout",
     "output_type": "stream",
     "text": [
      "[70.33]\n"
     ]
    }
   ],
   "source": [
    "#Lower fence <--> Higher Fence\n",
    "Q1=np.percentile(marks,[67])\n",
    "print(Q1)"
   ]
  },
  {
   "cell_type": "code",
   "execution_count": 17,
   "id": "e588233d-7da2-4bb9-9837-86988b4601ab",
   "metadata": {},
   "outputs": [],
   "source": [
    "mimimum,Q1,Q2,Q3,maximum=np.quantile(marks,[0.11,0.25,0.70,0.77,1.0])"
   ]
  },
  {
   "cell_type": "code",
   "execution_count": 18,
   "id": "ad7bf3f9-3af4-46cb-8452-f7987febdefb",
   "metadata": {},
   "outputs": [],
   "source": [
    "IQR=Q3-Q1"
   ]
  },
  {
   "cell_type": "code",
   "execution_count": 19,
   "id": "9ba314c2-5265-445c-8464-2c4743f1ee7d",
   "metadata": {},
   "outputs": [
    {
     "data": {
      "text/plain": [
       "47.629999999999995"
      ]
     },
     "execution_count": 19,
     "metadata": {},
     "output_type": "execute_result"
    }
   ],
   "source": [
    "IQR"
   ]
  },
  {
   "cell_type": "code",
   "execution_count": 20,
   "id": "2770617e-1872-460c-990d-1ffde5904505",
   "metadata": {},
   "outputs": [],
   "source": [
    "lower_fence=Q1-1.5*(IQR)\n",
    "Higher_fence=Q3+1.5*(IQR)\n"
   ]
  },
  {
   "cell_type": "code",
   "execution_count": 21,
   "id": "a4a5e3d4-09b4-4d8c-bc82-93e2074e5a09",
   "metadata": {},
   "outputs": [
    {
     "data": {
      "text/plain": [
       "(-41.19499999999999, 149.325)"
      ]
     },
     "execution_count": 21,
     "metadata": {},
     "output_type": "execute_result"
    }
   ],
   "source": [
    "lower_fence,Higher_fence"
   ]
  },
  {
   "cell_type": "code",
   "execution_count": 23,
   "id": "af8a6ed7-28c6-42a1-980e-b05015d5a1fb",
   "metadata": {},
   "outputs": [
    {
     "name": "stdout",
     "output_type": "stream",
     "text": [
      "This is not an outlier\n",
      "This is not an outlier\n",
      "This is not an outlier\n",
      "This is not an outlier\n",
      "This is not an outlier\n",
      "This is not an outlier\n",
      "This is not an outlier\n",
      "This is not an outlier\n",
      "This is not an outlier\n",
      "This is not an outlier\n",
      "This is not an outlier\n"
     ]
    }
   ],
   "source": [
    "outlier=[]\n",
    "for i in marks:\n",
    "    if i>=-41.19499999999999 and i<=149.325:\n",
    "        print(\"This is not an outlier\")\n",
    "    else:\n",
    "        outlier.append(i)"
   ]
  },
  {
   "cell_type": "code",
   "execution_count": 24,
   "id": "0c0466a6-d1f9-40d3-b3e7-92348f247947",
   "metadata": {},
   "outputs": [
    {
     "data": {
      "text/plain": [
       "[1000]"
      ]
     },
     "execution_count": 24,
     "metadata": {},
     "output_type": "execute_result"
    }
   ],
   "source": [
    "outlier"
   ]
  },
  {
   "cell_type": "code",
   "execution_count": 25,
   "id": "f1edd8c2-355f-47ab-af8f-7fcde19bf7e3",
   "metadata": {},
   "outputs": [],
   "source": [
    "import seaborn as sns"
   ]
  },
  {
   "cell_type": "code",
   "execution_count": 26,
   "id": "7a82e64f-a4a4-48bd-b7b1-d7e353ed7af8",
   "metadata": {},
   "outputs": [
    {
     "data": {
      "text/plain": [
       "<Axes: >"
      ]
     },
     "execution_count": 26,
     "metadata": {},
     "output_type": "execute_result"
    },
    {
     "data": {
      "image/png": "[encoded data removed]",
      "text/plain": [
       "<Figure size 640x480 with 1 Axes>"
      ]
     },
     "metadata": {},
     "output_type": "display_data"
    }
   ],
   "source": [
    "sns.boxplot(marks) #identifying outlier"
   ]
  },
  {
   "cell_type": "code",
   "execution_count": null,
   "id": "4f535520-7922-489d-a092-466147d1b368",
   "metadata": {},
   "outputs": [],
   "source": []
  },
  {
   "cell_type": "code",
   "execution_count": null,
   "id": "a427e0cb-5633-4b3f-a4a0-8b2580ec88af",
   "metadata": {},
   "outputs": [],
   "source": []
  },
  {
   "cell_type": "code",
   "execution_count": null,
   "id": "d7aa1140-e427-43de-a12a-bbfd0cc7de2b",
   "metadata": {},
   "outputs": [],
   "source": []
  }
 ],
 "metadata": {
  "kernelspec": {
   "display_name": "Python 3 (ipykernel)",
   "language": "python",
   "name": "python3"
  },
  "language_info": {
   "codemirror_mode": {
    "name": "ipython",
    "version": 3
   },
   "file_extension": ".py",
   "mimetype": "text/x-python",
   "name": "python",
   "nbconvert_exporter": "python",
   "pygments_lexer": "ipython3",
   "version": "3.11.5"
  }
 },
 "nbformat": 4,
 "nbformat_minor": 5
}
