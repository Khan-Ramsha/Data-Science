{
 "cells": [
  {
   "cell_type": "markdown",
   "id": "763f6059-a4d0-42bb-8f49-0d5602da9604",
   "metadata": {},
   "source": [
    "## Nominal or OneHotEncoding.\n",
    "    sorts alphabetically,arrange it and gives each value a binary number 1 - value present , 0- value absent\n",
    "    converting categorical feature into numerical values for training the model\n",
    "    disadvantge: create a sparse matrix. if 1000 categorical feature then creates so many combination of 1s and 0s"
   ]
  },
  {
   "cell_type": "code",
   "execution_count": 1,
   "id": "c419b84c-d15d-4223-9a6a-d6b1da997b13",
   "metadata": {},
   "outputs": [],
   "source": [
    "import pandas as pd"
   ]
  },
  {
   "cell_type": "code",
   "execution_count": 5,
   "id": "c56892be-5213-48da-9eaa-ca04c914cf29",
   "metadata": {},
   "outputs": [],
   "source": [
    "data=pd.DataFrame({'color':['red','green','blue']})"
   ]
  },
  {
   "cell_type": "code",
   "execution_count": 6,
   "id": "f3dfa323-2517-4785-8d5b-f68997e36e23",
   "metadata": {},
   "outputs": [],
   "source": [
    "from sklearn.preprocessing import OneHotEncoder"
   ]
  },
  {
   "cell_type": "code",
   "execution_count": 7,
   "id": "bec8ea1a-3b6f-4dec-9be7-854b94ce3ddc",
   "metadata": {},
   "outputs": [],
   "source": [
    "encoder=OneHotEncoder()"
   ]
  },
  {
   "cell_type": "code",
   "execution_count": 12,
   "id": "c3a29d0b-ad93-4270-9f02-43b9da56aab9",
   "metadata": {},
   "outputs": [],
   "source": [
    "encoded=encoder.fit_transform(data)"
   ]
  },
  {
   "cell_type": "code",
   "execution_count": 18,
   "id": "ab4afb65-eaac-4518-80d7-bb0123531b26",
   "metadata": {},
   "outputs": [],
   "source": [
    "encoded=pd.DataFrame(encoded.toarray(),columns=encoder.get_feature_names_out())"
   ]
  },
  {
   "cell_type": "code",
   "execution_count": 19,
   "id": "6559fbf1-e20d-4f23-8e2e-7508b2d49678",
   "metadata": {},
   "outputs": [
    {
     "data": {
      "text/html": [
       "<div>\n",
       "<style scoped>\n",
       "    .dataframe tbody tr th:only-of-type {\n",
       "        vertical-align: middle;\n",
       "    }\n",
       "\n",
       "    .dataframe tbody tr th {\n",
       "        vertical-align: top;\n",
       "    }\n",
       "\n",
       "    .dataframe thead th {\n",
       "        text-align: right;\n",
       "    }\n",
       "</style>\n",
       "<table border=\"1\" class=\"dataframe\">\n",
       "  <thead>\n",
       "    <tr style=\"text-align: right;\">\n",
       "      <th></th>\n",
       "      <th>color_blue</th>\n",
       "      <th>color_green</th>\n",
       "      <th>color_red</th>\n",
       "    </tr>\n",
       "  </thead>\n",
       "  <tbody>\n",
       "    <tr>\n",
       "      <th>0</th>\n",
       "      <td>0.0</td>\n",
       "      <td>0.0</td>\n",
       "      <td>1.0</td>\n",
       "    </tr>\n",
       "    <tr>\n",
       "      <th>1</th>\n",
       "      <td>0.0</td>\n",
       "      <td>1.0</td>\n",
       "      <td>0.0</td>\n",
       "    </tr>\n",
       "    <tr>\n",
       "      <th>2</th>\n",
       "      <td>1.0</td>\n",
       "      <td>0.0</td>\n",
       "      <td>0.0</td>\n",
       "    </tr>\n",
       "  </tbody>\n",
       "</table>\n",
       "</div>"
      ],
      "text/plain": [
       "   color_blue  color_green  color_red\n",
       "0         0.0          0.0        1.0\n",
       "1         0.0          1.0        0.0\n",
       "2         1.0          0.0        0.0"
      ]
     },
     "execution_count": 19,
     "metadata": {},
     "output_type": "execute_result"
    }
   ],
   "source": [
    "encoded"
   ]
  },
  {
   "cell_type": "code",
   "execution_count": 23,
   "id": "28e53fc0-6735-4036-b9e8-2dd85490e2ea",
   "metadata": {},
   "outputs": [],
   "source": [
    "encoded_dataset=pd.concat([data,encoded],axis=1)"
   ]
  },
  {
   "cell_type": "code",
   "execution_count": 24,
   "id": "5df31db2-9215-4418-aa15-9c3ffc9c2ca5",
   "metadata": {},
   "outputs": [
    {
     "data": {
      "text/html": [
       "<div>\n",
       "<style scoped>\n",
       "    .dataframe tbody tr th:only-of-type {\n",
       "        vertical-align: middle;\n",
       "    }\n",
       "\n",
       "    .dataframe tbody tr th {\n",
       "        vertical-align: top;\n",
       "    }\n",
       "\n",
       "    .dataframe thead th {\n",
       "        text-align: right;\n",
       "    }\n",
       "</style>\n",
       "<table border=\"1\" class=\"dataframe\">\n",
       "  <thead>\n",
       "    <tr style=\"text-align: right;\">\n",
       "      <th></th>\n",
       "      <th>color</th>\n",
       "      <th>color_blue</th>\n",
       "      <th>color_green</th>\n",
       "      <th>color_red</th>\n",
       "    </tr>\n",
       "  </thead>\n",
       "  <tbody>\n",
       "    <tr>\n",
       "      <th>0</th>\n",
       "      <td>red</td>\n",
       "      <td>0.0</td>\n",
       "      <td>0.0</td>\n",
       "      <td>1.0</td>\n",
       "    </tr>\n",
       "    <tr>\n",
       "      <th>1</th>\n",
       "      <td>green</td>\n",
       "      <td>0.0</td>\n",
       "      <td>1.0</td>\n",
       "      <td>0.0</td>\n",
       "    </tr>\n",
       "    <tr>\n",
       "      <th>2</th>\n",
       "      <td>blue</td>\n",
       "      <td>1.0</td>\n",
       "      <td>0.0</td>\n",
       "      <td>0.0</td>\n",
       "    </tr>\n",
       "  </tbody>\n",
       "</table>\n",
       "</div>"
      ],
      "text/plain": [
       "   color  color_blue  color_green  color_red\n",
       "0    red         0.0          0.0        1.0\n",
       "1  green         0.0          1.0        0.0\n",
       "2   blue         1.0          0.0        0.0"
      ]
     },
     "execution_count": 24,
     "metadata": {},
     "output_type": "execute_result"
    }
   ],
   "source": [
    "encoded_dataset"
   ]
  },
  {
   "cell_type": "markdown",
   "id": "d57de2bf-a7a8-4b43-8826-b9fcfd7bfaee",
   "metadata": {},
   "source": [
    "## Label encoding and Ordinal encoding\n",
    "    ordinal encoding-categories with rank\n",
    "    label encoding-provides label to each values"
   ]
  },
  {
   "cell_type": "code",
   "execution_count": 32,
   "id": "2a8af405-a23a-46fe-b221-5dcc93e99237",
   "metadata": {},
   "outputs": [],
   "source": [
    "#label encoding"
   ]
  },
  {
   "cell_type": "code",
   "execution_count": 26,
   "id": "54c5a604-959b-45c7-b201-505594f378d3",
   "metadata": {},
   "outputs": [],
   "source": [
    "data=pd.DataFrame({'color':['red','green','blue']})"
   ]
  },
  {
   "cell_type": "code",
   "execution_count": 28,
   "id": "38b5db6d-7285-426a-8d9c-ced06cb6ad76",
   "metadata": {},
   "outputs": [],
   "source": [
    "from sklearn.preprocessing import LabelEncoder"
   ]
  },
  {
   "cell_type": "code",
   "execution_count": 29,
   "id": "fea34f5f-7563-44a7-b38c-247977717062",
   "metadata": {},
   "outputs": [],
   "source": [
    "encoder=LabelEncoder()"
   ]
  },
  {
   "cell_type": "code",
   "execution_count": 31,
   "id": "636ed031-723e-49c9-af4f-e0158c940fd9",
   "metadata": {},
   "outputs": [
    {
     "data": {
      "text/plain": [
       "array([2, 1, 0])"
      ]
     },
     "execution_count": 31,
     "metadata": {},
     "output_type": "execute_result"
    }
   ],
   "source": [
    "encoder.fit_transform(data['color'])"
   ]
  },
  {
   "cell_type": "code",
   "execution_count": 33,
   "id": "1a45cbb2-94af-44d5-93c8-3cd6961c7d19",
   "metadata": {},
   "outputs": [],
   "source": [
    "#ordinal encoding"
   ]
  },
  {
   "cell_type": "code",
   "execution_count": 34,
   "id": "31b9f06c-3ef3-4b97-8d4b-342a98833090",
   "metadata": {},
   "outputs": [],
   "source": [
    "data=pd.DataFrame({'size':['small','large','medium','small','medium','large']})"
   ]
  },
  {
   "cell_type": "code",
   "execution_count": 35,
   "id": "30583a5e-ef9b-4032-820c-0920fc426a50",
   "metadata": {},
   "outputs": [],
   "source": [
    "from sklearn.preprocessing import OrdinalEncoder"
   ]
  },
  {
   "cell_type": "code",
   "execution_count": 42,
   "id": "934b6a79-0e49-4b0f-be3f-97ab6909765f",
   "metadata": {},
   "outputs": [],
   "source": [
    "encoder=OrdinalEncoder(categories=[['small','medium','large']])"
   ]
  },
  {
   "cell_type": "code",
   "execution_count": 43,
   "id": "ae6e504b-b270-4efa-9b32-aadb18972d64",
   "metadata": {},
   "outputs": [
    {
     "data": {
      "text/plain": [
       "array([[0.],\n",
       "       [2.],\n",
       "       [1.],\n",
       "       [0.],\n",
       "       [1.],\n",
       "       [2.]])"
      ]
     },
     "execution_count": 43,
     "metadata": {},
     "output_type": "execute_result"
    }
   ],
   "source": [
    "encoder.fit_transform(data[['size']])"
   ]
  },
  {
   "cell_type": "markdown",
   "id": "d59c7e92-2fb9-4fb8-8eae-678fb4962230",
   "metadata": {},
   "source": [
    "## Target guided ordinal encoding\n",
    "    technique used to encode the categorical var based on their relationship with target var.WE replace each category in the categorical var with numerical val based on the mean and median of the target var for that category"
   ]
  },
  {
   "cell_type": "code",
   "execution_count": 46,
   "id": "fa97d97d-c7ae-49e6-9cb6-e7f7da7fc0a7",
   "metadata": {},
   "outputs": [],
   "source": [
    "df=pd.DataFrame({'city':['Newyork','London','Paris'],'prices':[129,125,150]})"
   ]
  },
  {
   "cell_type": "code",
   "execution_count": 47,
   "id": "7fc6e7ef-ff96-44ae-867e-a511359698d8",
   "metadata": {},
   "outputs": [
    {
     "data": {
      "text/html": [
       "<div>\n",
       "<style scoped>\n",
       "    .dataframe tbody tr th:only-of-type {\n",
       "        vertical-align: middle;\n",
       "    }\n",
       "\n",
       "    .dataframe tbody tr th {\n",
       "        vertical-align: top;\n",
       "    }\n",
       "\n",
       "    .dataframe thead th {\n",
       "        text-align: right;\n",
       "    }\n",
       "</style>\n",
       "<table border=\"1\" class=\"dataframe\">\n",
       "  <thead>\n",
       "    <tr style=\"text-align: right;\">\n",
       "      <th></th>\n",
       "      <th>city</th>\n",
       "      <th>prices</th>\n",
       "    </tr>\n",
       "  </thead>\n",
       "  <tbody>\n",
       "    <tr>\n",
       "      <th>0</th>\n",
       "      <td>Newyork</td>\n",
       "      <td>129</td>\n",
       "    </tr>\n",
       "    <tr>\n",
       "      <th>1</th>\n",
       "      <td>London</td>\n",
       "      <td>125</td>\n",
       "    </tr>\n",
       "    <tr>\n",
       "      <th>2</th>\n",
       "      <td>Paris</td>\n",
       "      <td>150</td>\n",
       "    </tr>\n",
       "  </tbody>\n",
       "</table>\n",
       "</div>"
      ],
      "text/plain": [
       "      city  prices\n",
       "0  Newyork     129\n",
       "1   London     125\n",
       "2    Paris     150"
      ]
     },
     "execution_count": 47,
     "metadata": {},
     "output_type": "execute_result"
    }
   ],
   "source": [
    "df"
   ]
  },
  {
   "cell_type": "code",
   "execution_count": 56,
   "id": "ae6cbb6a-2584-4d71-92e4-aefb3913cdaf",
   "metadata": {},
   "outputs": [],
   "source": [
    "mean=df.groupby('city')['prices'].mean().to_dict()"
   ]
  },
  {
   "cell_type": "code",
   "execution_count": 57,
   "id": "68d1637b-e770-454c-9262-3d416260f7bd",
   "metadata": {},
   "outputs": [
    {
     "data": {
      "text/plain": [
       "{'London': 125.0, 'Newyork': 129.0, 'Paris': 150.0}"
      ]
     },
     "execution_count": 57,
     "metadata": {},
     "output_type": "execute_result"
    }
   ],
   "source": [
    "mean"
   ]
  },
  {
   "cell_type": "code",
   "execution_count": 64,
   "id": "61e84d7f-7774-4a9f-a5e4-c7de603cd6d4",
   "metadata": {},
   "outputs": [],
   "source": [
    "df['mean_prices']=df['city'].map(mean)"
   ]
  },
  {
   "cell_type": "code",
   "execution_count": 65,
   "id": "95593348-e95f-46c7-8bde-aa5796ac4a60",
   "metadata": {},
   "outputs": [
    {
     "data": {
      "text/plain": [
       "0    129.0\n",
       "1    125.0\n",
       "2    150.0\n",
       "Name: mean_prices, dtype: float64"
      ]
     },
     "execution_count": 65,
     "metadata": {},
     "output_type": "execute_result"
    }
   ],
   "source": [
    "df['mean_prices']"
   ]
  },
  {
   "cell_type": "code",
   "execution_count": 66,
   "id": "31870172-c845-45e2-a59b-04adb4418d30",
   "metadata": {},
   "outputs": [
    {
     "data": {
      "text/html": [
       "<div>\n",
       "<style scoped>\n",
       "    .dataframe tbody tr th:only-of-type {\n",
       "        vertical-align: middle;\n",
       "    }\n",
       "\n",
       "    .dataframe tbody tr th {\n",
       "        vertical-align: top;\n",
       "    }\n",
       "\n",
       "    .dataframe thead th {\n",
       "        text-align: right;\n",
       "    }\n",
       "</style>\n",
       "<table border=\"1\" class=\"dataframe\">\n",
       "  <thead>\n",
       "    <tr style=\"text-align: right;\">\n",
       "      <th></th>\n",
       "      <th>city</th>\n",
       "      <th>prices</th>\n",
       "      <th>mean_prices</th>\n",
       "    </tr>\n",
       "  </thead>\n",
       "  <tbody>\n",
       "    <tr>\n",
       "      <th>0</th>\n",
       "      <td>Newyork</td>\n",
       "      <td>129</td>\n",
       "      <td>129.0</td>\n",
       "    </tr>\n",
       "    <tr>\n",
       "      <th>1</th>\n",
       "      <td>London</td>\n",
       "      <td>125</td>\n",
       "      <td>125.0</td>\n",
       "    </tr>\n",
       "    <tr>\n",
       "      <th>2</th>\n",
       "      <td>Paris</td>\n",
       "      <td>150</td>\n",
       "      <td>150.0</td>\n",
       "    </tr>\n",
       "  </tbody>\n",
       "</table>\n",
       "</div>"
      ],
      "text/plain": [
       "      city  prices  mean_prices\n",
       "0  Newyork     129        129.0\n",
       "1   London     125        125.0\n",
       "2    Paris     150        150.0"
      ]
     },
     "execution_count": 66,
     "metadata": {},
     "output_type": "execute_result"
    }
   ],
   "source": [
    "df"
   ]
  },
  {
   "cell_type": "code",
   "execution_count": null,
   "id": "bdcb3372-af56-48fe-a172-537485429d3b",
   "metadata": {},
   "outputs": [],
   "source": []
  }
 ],
 "metadata": {
  "kernelspec": {
   "display_name": "Python 3 (ipykernel)",
   "language": "python",
   "name": "python3"
  },
  "language_info": {
   "codemirror_mode": {
    "name": "ipython",
    "version": 3
   },
   "file_extension": ".py",
   "mimetype": "text/x-python",
   "name": "python",
   "nbconvert_exporter": "python",
   "pygments_lexer": "ipython3",
   "version": "3.11.5"
  }
 },
 "nbformat": 4,
 "nbformat_minor": 5
}
